{
  "nbformat": 4,
  "nbformat_minor": 0,
  "metadata": {
    "colab": {
      "provenance": [],
      "authorship_tag": "ABX9TyMTPvIZ6/g6UvkMDrcaIqGj",
      "include_colab_link": true
    },
    "kernelspec": {
      "name": "python3",
      "display_name": "Python 3"
    },
    "language_info": {
      "name": "python"
    }
  },
  "cells": [
    {
      "cell_type": "markdown",
      "metadata": {
        "id": "view-in-github",
        "colab_type": "text"
      },
      "source": [
        "<a href=\"https://colab.research.google.com/github/chanpus/BeakJun/blob/main/100jun0130-1.ipynb\" target=\"_parent\"><img src=\"https://colab.research.google.com/assets/colab-badge.svg\" alt=\"Open In Colab\"/></a>"
      ]
    },
    {
      "cell_type": "code",
      "source": [
        "#Q35\n",
        "\n",
        "\n",
        "N=int(input())\n",
        "\n",
        "A=[[0]*2 for _ in range(N)]\n",
        "\n",
        "for i in range(N):\n",
        "  S,E=map(int,input().split())\n",
        "  A[i][0]=E\n",
        "  A[i][1]=S\n",
        "\n",
        "A.sort(key=lambda x: (x[0],x[1]))\n",
        "\n",
        "\n",
        "res=0\n",
        "e=0\n",
        "\n",
        "for i in range(N):\n",
        "  if e<=A[i][1]:\n",
        "    res+=1\n",
        "    e=A[i][0]\n",
        "\n",
        "print(res)\n",
        "\n",
        "\n"
      ],
      "metadata": {
        "colab": {
          "base_uri": "https://localhost:8080/"
        },
        "id": "NXiy807Q_thR",
        "outputId": "852eb55c-143a-4551-8045-609b2d29724d"
      },
      "execution_count": null,
      "outputs": [
        {
          "output_type": "stream",
          "name": "stdout",
          "text": [
            "10\n",
            "1 3\n",
            "3 4\n",
            "4 4\n",
            "5 8\n",
            "6 8\n",
            "7 8\n",
            "8 8\n",
            "9 10\n",
            "10 10\n",
            "2 2\n",
            "[2, 2]\n",
            "[4, 3]\n",
            "[4, 4]\n",
            "[8, 5]\n",
            "[8, 6]\n",
            "[8, 7]\n",
            "[8, 8]\n",
            "[10, 9]\n",
            "[10, 10]\n",
            "9\n"
          ]
        }
      ]
    },
    {
      "cell_type": "code",
      "source": [
        "#Q36\n",
        "\n",
        "res=0\n",
        "A=list(map(str,input().split('-')))\n",
        "for i in range(len(A)):\n",
        "  temp=0\n",
        "  B=A[i].split('+')\n",
        "  for j in range(len(B)): temp+=int(B[j])\n",
        "  res -= temp\n",
        "  if i==0: res+= temp*2\n",
        "\n",
        "print(res)\n",
        "\n",
        "\n",
        "\n"
      ],
      "metadata": {
        "colab": {
          "base_uri": "https://localhost:8080/"
        },
        "id": "S_veXw-tGjvf",
        "outputId": "d9a93034-64f9-4c62-cc7e-135b50863c7c"
      },
      "execution_count": null,
      "outputs": [
        {
          "output_type": "stream",
          "name": "stdout",
          "text": [
            "1+2-3+4\n",
            "-4\n"
          ]
        }
      ]
    }
  ]
}