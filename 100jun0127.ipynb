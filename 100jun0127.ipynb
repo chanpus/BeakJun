{
  "nbformat": 4,
  "nbformat_minor": 0,
  "metadata": {
    "colab": {
      "provenance": [],
      "authorship_tag": "ABX9TyP8gCgZzGrc4SGTZRAnT3m5",
      "include_colab_link": true
    },
    "kernelspec": {
      "name": "python3",
      "display_name": "Python 3"
    },
    "language_info": {
      "name": "python"
    }
  },
  "cells": [
    {
      "cell_type": "markdown",
      "metadata": {
        "id": "view-in-github",
        "colab_type": "text"
      },
      "source": [
        "<a href=\"https://colab.research.google.com/github/chanpus/BeakJun/blob/main/100jun0127.ipynb\" target=\"_parent\"><img src=\"https://colab.research.google.com/assets/colab-badge.svg\" alt=\"Open In Colab\"/></a>"
      ]
    },
    {
      "cell_type": "code",
      "source": [
        "#Q27\n",
        "\n",
        "from collections import deque\n",
        "\n",
        "N,M=map(int,input().split())\n",
        "\n",
        "A=[[] for _ in range(N)]\n",
        "for i in range(N):\n",
        "  A[i]=list(input())\n",
        "  for j in range(M):\n",
        "    A[i][j]=int(A[i][j])\n",
        "\n",
        "\n",
        "\n",
        "visited=[[0]*M for i in range(N)]\n",
        "res=0\n",
        "\n",
        "def BFS(D):\n",
        "  global res,N,M\n",
        "  temp=D.pop()\n",
        "  #print(temp)\n",
        "  #visited[temp[0]][temp[1]]=1\n",
        "  #for i in range(N):\n",
        "    #print(visited[i])\n",
        "  #print(k)\n",
        "  #print('------------')\n",
        "  if temp[0]==N-1 and temp[1]==M-1:\n",
        "    if res==0:res=temp[2]\n",
        "    if res>temp[2]:res=temp[2]\n",
        "    #print(k)\n",
        "  if temp[0]<N-1 and visited[temp[0]+1][temp[1]]==0 and A[temp[0]+1][temp[1]]==1:\n",
        "    D.appendleft([temp[0]+1,temp[1],temp[2]+1])\n",
        "    visited[temp[0]+1][temp[1]]=1\n",
        "  if temp[1]<M-1 and visited[temp[0]][temp[1]+1]==0 and A[temp[0]][temp[1]+1]==1:\n",
        "    D.appendleft([temp[0],temp[1]+1,temp[2]+1])\n",
        "    visited[temp[0]][temp[1]+1]=1\n",
        "  if temp[0]>0 and visited[temp[0]-1][temp[1]]==0 and A[temp[0]-1][temp[1]]==1:\n",
        "    D.appendleft([temp[0]-1,temp[1],temp[2]+1])\n",
        "    visited[temp[0]-1][temp[1]]=1\n",
        "  if temp[1]>0 and visited[temp[0]][temp[1]-1]==0 and A[temp[0]][temp[1]-1]==1:\n",
        "    D.appendleft([temp[0],temp[1]-1,temp[2]+1])\n",
        "    visited[temp[0]][temp[1]-1]=1\n",
        "  \n",
        "  if D: \n",
        "    BFS(D)\n",
        "\n",
        "B=deque()\n",
        "visited[0][0]=1\n",
        "B.append([0,0,1])\n",
        "BFS(B)\n",
        "print(res)\n",
        "    \n",
        "\n",
        "\n",
        "\n",
        "\n"
      ],
      "metadata": {
        "colab": {
          "base_uri": "https://localhost:8080/"
        },
        "id": "MUlMVMB1UxTB",
        "outputId": "4c2171da-5946-446c-a6f3-815fb22f8a22"
      },
      "execution_count": 41,
      "outputs": [
        {
          "output_type": "stream",
          "name": "stdout",
          "text": [
            "7 7\n",
            "1111111\n",
            "1111111\n",
            "1111111\n",
            "1111111\n",
            "1111111\n",
            "1111111\n",
            "1111111\n",
            "13\n"
          ]
        }
      ]
    },
    {
      "cell_type": "code",
      "source": [
        "#Q28\n",
        "\n",
        "\n",
        "N=int(input())\n",
        "from collections import deque\n",
        "\n",
        "\n",
        "A=[[] for _ in range(N+1)]\n",
        "visited=[0]*(N+1)\n",
        "\n",
        "i=1\n",
        "for _ in range(N):\n",
        "  li=list(map(int,input().split()))\n",
        "  i=1\n",
        "  while 1:\n",
        "    if li[i]==-1:break\n",
        "    a,b=li[i],li[i+1]\n",
        "    A[li[0]].append([a,b])\n",
        "    i+=2\n",
        "\n",
        "dist=[0]*(N+1)\n",
        "\n",
        "def BFS(n):\n",
        "  res=n\n",
        "  q=deque()\n",
        "  for i in range(len(A[n])):\n",
        "    q.appendleft(A[n][i])\n",
        "    visited[A[n][i][0]]=1\n",
        "    dist[A[n][i][0]]=A[n][i][1]\n",
        "    if dist[A[n][i][0]]>dist[res]: res=A[n][i][0]\n",
        "    while len(q)!=0:\n",
        "      l=q.pop()\n",
        "      for i in range(len(A[l[0]])):\n",
        "        if visited[A[l[0]][i][0]]==0:\n",
        "          visited[A[l[0]][i][0]]=1\n",
        "          q.appendleft(A[l[0]][i])\n",
        "          dist[A[l[0]][i][0]]=A[l[0]][i][1]+dist[l[0]]\n",
        "          if dist[A[l[0]][i][0]]>dist[res]: res=A[l[0]][i][0]\n",
        "  return res\n",
        "\n",
        "visited[1]=1\n",
        "r=BFS(1)\n",
        "for i in range(len(dist)):\n",
        "  dist[i]=0\n",
        "  visited[i]=0\n",
        "visited[r]=1\n",
        "R=BFS(r)\n",
        "print(dist[R])\n",
        "        \n",
        "\n"
      ],
      "metadata": {
        "colab": {
          "base_uri": "https://localhost:8080/"
        },
        "id": "fjPDa0zAxQwo",
        "outputId": "8cbc9a85-e31f-49cf-a955-48814df6d8ee"
      },
      "execution_count": 29,
      "outputs": [
        {
          "output_type": "stream",
          "name": "stdout",
          "text": [
            "2\n",
            "1 2 1 -1\n",
            "2 1 1 -1\n",
            "1\n"
          ]
        }
      ]
    },
    {
      "cell_type": "code",
      "source": [
        "#Q29\n",
        "\n",
        "\n",
        "N=int(input())\n",
        "\n",
        "li=list(map(int,input().spliot()))\n",
        "\n",
        "F=int(input())\n",
        "\n",
        "fi=list(map(int,input().spliot()))\n",
        "\n",
        "def bserch"
      ],
      "metadata": {
        "id": "AIesYpU62W1W"
      },
      "execution_count": null,
      "outputs": []
    }
  ]
}