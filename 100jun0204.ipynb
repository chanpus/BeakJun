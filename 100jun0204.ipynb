{
  "nbformat": 4,
  "nbformat_minor": 0,
  "metadata": {
    "colab": {
      "provenance": [],
      "authorship_tag": "ABX9TyObWcRO42CSEmwhkfrA9Kq6",
      "include_colab_link": true
    },
    "kernelspec": {
      "name": "python3",
      "display_name": "Python 3"
    },
    "language_info": {
      "name": "python"
    }
  },
  "cells": [
    {
      "cell_type": "markdown",
      "metadata": {
        "id": "view-in-github",
        "colab_type": "text"
      },
      "source": [
        "<a href=\"https://colab.research.google.com/github/chanpus/BeakJun/blob/main/100jun0204.ipynb\" target=\"_parent\"><img src=\"https://colab.research.google.com/assets/colab-badge.svg\" alt=\"Open In Colab\"/></a>"
      ]
    },
    {
      "cell_type": "code",
      "source": [
        "#Q42\n",
        "\n",
        "n=int(input())\n",
        "A=[[0]*2 for i in range(n)]\n",
        "for i in range(n):\n",
        "  a,b=map(int,input().split())\n",
        "  A[i][0],A[i][1]=a,b\n",
        "\n",
        "def gcd(a,b):\n",
        "\n",
        "  if b==0:return a\n",
        "  else:return gcd(b,a%b)\n",
        "\n",
        "for i in range(n):\n",
        "  print(int(A[i][0]*A[i][1]/gcd(A[i][0],A[i][1])))\n",
        "\n",
        "\n"
      ],
      "metadata": {
        "colab": {
          "base_uri": "https://localhost:8080/"
        },
        "id": "tNkzUjbm22Pl",
        "outputId": "40f116d1-61c4-40cc-d618-26c597040723"
      },
      "execution_count": null,
      "outputs": [
        {
          "output_type": "stream",
          "name": "stdout",
          "text": [
            "1\n",
            "2 3\n",
            "6\n"
          ]
        }
      ]
    },
    {
      "cell_type": "code",
      "source": [
        "#Q43\n",
        "\n",
        "def gcd(a,b):\n",
        "\n",
        "  if b==0:return a\n",
        "  else:return gcd(b,a%b)\n",
        "  \n",
        "\n",
        "\n",
        "a,b=map(int,input().split())\n",
        "\n",
        "temp=gcd(a,b)\n",
        "\n",
        "while temp>0:\n",
        "  print('1',end='')\n",
        "  temp-=1"
      ],
      "metadata": {
        "colab": {
          "base_uri": "https://localhost:8080/"
        },
        "id": "JVULkRn2-HMW",
        "outputId": "f124c806-2889-4cfb-8532-88b4d0c3d9c5"
      },
      "execution_count": null,
      "outputs": [
        {
          "output_type": "stream",
          "name": "stdout",
          "text": [
            "6 3\n",
            "111"
          ]
        }
      ]
    },
    {
      "cell_type": "code",
      "source": [
        "#Q44\n",
        "\n",
        "a=[]\n",
        "b=[]\n",
        "p=[]\n",
        "q=[]\n",
        "res=[]\n",
        "def gcd(a,b):\n",
        "\n",
        "  if b==0:return a\n",
        "  else:return gcd(b,a%b)\n",
        "\n",
        "N=int(input())\n",
        "for i in range(N):\n",
        "  temp=list(map(int,input().split()))\n",
        "  a.append(temp[0])\n",
        "  b.append(temp[1])\n",
        "  p.append(temp[2])\n",
        "  q.append(temp[3]) \n",
        "\n",
        "g=0\n",
        "for i in range(N):\n"
      ],
      "metadata": {
        "id": "HyjmnXgxBLyu"
      },
      "execution_count": null,
      "outputs": []
    }
  ]
}