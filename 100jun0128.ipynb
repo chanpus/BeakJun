{
  "nbformat": 4,
  "nbformat_minor": 0,
  "metadata": {
    "colab": {
      "provenance": [],
      "authorship_tag": "ABX9TyPVMedqxUf+Ti30Df5D0HpO",
      "include_colab_link": true
    },
    "kernelspec": {
      "name": "python3",
      "display_name": "Python 3"
    },
    "language_info": {
      "name": "python"
    }
  },
  "cells": [
    {
      "cell_type": "markdown",
      "metadata": {
        "id": "view-in-github",
        "colab_type": "text"
      },
      "source": [
        "<a href=\"https://colab.research.google.com/github/chanpus/BeakJun/blob/main/100jun0128.ipynb\" target=\"_parent\"><img src=\"https://colab.research.google.com/assets/colab-badge.svg\" alt=\"Open In Colab\"/></a>"
      ]
    },
    {
      "cell_type": "code",
      "source": [
        "#Q29\n",
        "\n",
        "\n",
        "N=int(input())\n",
        "\n",
        "li=list(map(int,input().split()))\n",
        "\n",
        "F=int(input())\n",
        "\n",
        "fi=list(map(int,input().split()))\n",
        "\n",
        "li.sort()\n",
        "\n",
        "\n",
        "def bs(A,findNum):\n",
        "\n",
        "  s=0\n",
        "  e=len(A)-1\n",
        "\n",
        "  while s<=e:\n",
        "    p=(e+s)//2\n",
        "    #print(A[p],findNum)\n",
        "    if A[p]==findNum:return 1\n",
        "    if A[p]>findNum: e=p-1\n",
        "    elif A[p]<findNum: s=p+1\n",
        "  return 0\n",
        "  \n",
        "for i in range(len(fi)):\n",
        "  print(bs(li, fi[i]))\n",
        "  \n"
      ],
      "metadata": {
        "colab": {
          "base_uri": "https://localhost:8080/"
        },
        "id": "AIesYpU62W1W",
        "outputId": "8a322373-9543-4eb9-9122-6c87c0a69bba"
      },
      "execution_count": null,
      "outputs": [
        {
          "output_type": "stream",
          "name": "stdout",
          "text": [
            "5\n",
            "1 2 3 4 5\n",
            "5\n",
            "1 3 7 9 5\n",
            "1\n",
            "1\n",
            "0\n",
            "0\n",
            "1\n"
          ]
        }
      ]
    },
    {
      "cell_type": "code",
      "source": [
        "#Q32 \n",
        "\n",
        "N,K=map(int,input().split())\n",
        "A=[0]*N\n",
        "\n",
        "for i in range(N):\n",
        "  A[i]=int(input())\n",
        "\n",
        "count = 0\n",
        "\n",
        "for i in rnage(N-1,-1,-1):\n",
        "  if A[i] <=k:\n",
        "    count+=int(K/A[i])\n",
        "    K=K%A[i]\n",
        "\n",
        "print(count)"
      ],
      "metadata": {
        "id": "IRcAT02LwIFp"
      },
      "execution_count": null,
      "outputs": []
    },
    {
      "cell_type": "code",
      "source": [
        "#Q31\n",
        "\n",
        "\n",
        "N=int(input())\n",
        "k=int(input())\n",
        "\n",
        "A=[[]*N for _ in range(N)]\n",
        "for i in range(N):\n",
        "  for j in range(N):\n",
        "    A[i][j]=i*j"
      ],
      "metadata": {
        "id": "xeiaLNjGi_Ec"
      },
      "execution_count": null,
      "outputs": []
    }
  ]
}