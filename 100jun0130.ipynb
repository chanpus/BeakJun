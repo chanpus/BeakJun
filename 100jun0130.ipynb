{
  "nbformat": 4,
  "nbformat_minor": 0,
  "metadata": {
    "colab": {
      "provenance": [],
      "authorship_tag": "ABX9TyOesOs8JrlKT40x9zB8kusM",
      "include_colab_link": true
    },
    "kernelspec": {
      "name": "python3",
      "display_name": "Python 3"
    },
    "language_info": {
      "name": "python"
    }
  },
  "cells": [
    {
      "cell_type": "markdown",
      "metadata": {
        "id": "view-in-github",
        "colab_type": "text"
      },
      "source": [
        "<a href=\"https://colab.research.google.com/github/chanpus/BeakJun/blob/main/100jun0130.ipynb\" target=\"_parent\"><img src=\"https://colab.research.google.com/assets/colab-badge.svg\" alt=\"Open In Colab\"/></a>"
      ]
    },
    {
      "cell_type": "code",
      "source": [
        "#Q33\n",
        "\n",
        "n=int(input())\n",
        "A=[]\n",
        "for i in range(n):\n",
        "  A.append(int(input()))\n",
        "\n",
        "A.sort()\n",
        "\n"
      ],
      "metadata": {
        "id": "i9lUnw6jnn3q"
      },
      "execution_count": null,
      "outputs": []
    },
    {
      "cell_type": "code",
      "source": [
        "from queue import PriorityQueue\n",
        "\n",
        "N=int(input())\n",
        "plusque=PriorityQueue()\n",
        "minusque=PriorityQueue()\n",
        "res=[]\n",
        "\n",
        "for i in range(N):\n",
        "  a=int(input())\n",
        "  if a==1:res.append(1)\n",
        "  elif a>0:plusque.put(a)\n",
        "  elif a<=0:minusque.put(a)\n",
        "if plusque.qsize()%2==1:res.append(plusque.get())\n",
        "while plusque.qsize():\n",
        "\n",
        "  temp=plusque.get()*plusque.get()\n",
        "  res.append(temp)\n",
        "\n",
        "while minusque.qsize():\n",
        "  if minusque.qsize()==1:\n",
        "    res.append(minusque.get())\n",
        "    break\n",
        "  temp=minusque.get()*minusque.get()\n",
        "  res.append(temp)\n",
        "\n",
        "sum=0\n",
        "for i in range(len(res)):\n",
        "  sum+=res[i]\n",
        "\n",
        "print(sum)\n",
        "  "
      ],
      "metadata": {
        "colab": {
          "base_uri": "https://localhost:8080/"
        },
        "id": "telmOyLjsyAb",
        "outputId": "b3fe72a8-e0ed-4ce9-94dd-756f10ea1368"
      },
      "execution_count": null,
      "outputs": [
        {
          "output_type": "stream",
          "name": "stdout",
          "text": [
            "5\n",
            "-1\n",
            "-2\n",
            "-3\n",
            "-4\n",
            "-5\n",
            "9\n"
          ]
        }
      ]
    }
  ]
}