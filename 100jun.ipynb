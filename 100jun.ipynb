{
  "nbformat": 4,
  "nbformat_minor": 0,
  "metadata": {
    "colab": {
      "provenance": [],
      "authorship_tag": "ABX9TyONHKV1oTvO7bzXeGBH/Suw",
      "include_colab_link": true
    },
    "kernelspec": {
      "name": "python3",
      "display_name": "Python 3"
    },
    "language_info": {
      "name": "python"
    }
  },
  "cells": [
    {
      "cell_type": "markdown",
      "metadata": {
        "id": "view-in-github",
        "colab_type": "text"
      },
      "source": [
        "<a href=\"https://colab.research.google.com/github/chanpus/BeakJun/blob/main/100jun.ipynb\" target=\"_parent\"><img src=\"https://colab.research.google.com/assets/colab-badge.svg\" alt=\"Open In Colab\"/></a>"
      ]
    },
    {
      "cell_type": "code",
      "source": [
        "#Q11 잘 몰라서 보고했음. 보니까 이해좀 함.\n",
        "n= int(input())\n",
        "a=[0]*n\n",
        "stack=[]\n",
        "num=1\n",
        "result=True\n",
        "answer=\"\"\n",
        "for i in range(n):a[i]=int(input())\n",
        "\n",
        "for i in range(n):\n",
        "  su=a[i]\n",
        "  if su>=num:\n",
        "    while su>=num:\n",
        "      stack.append(num)\n",
        "      num+=1\n",
        "      answer+=\"+\\n\"\n",
        "    stack.pop()\n",
        "    answer+=\"-\\n\"\n",
        "  else:\n",
        "    n=stack.pop()\n",
        "    if n>su:\n",
        "      print(\"NO\")\n",
        "      result=False\n",
        "      break\n",
        "    else:\n",
        "      answer+=\"-\\n\"\n",
        "\n",
        "      1\n",
        "if result:\n",
        "  print(answer)\n"
      ],
      "metadata": {
        "colab": {
          "base_uri": "https://localhost:8080/"
        },
        "id": "Emb0DZpYR-3h",
        "outputId": "0df98b58-69b1-42de-b711-0c3467f4fa2a"
      },
      "execution_count": null,
      "outputs": [
        {
          "output_type": "stream",
          "name": "stdout",
          "text": [
            "8\n",
            "4\n",
            "3\n",
            "6\n",
            "8\n",
            "7\n",
            "5\n",
            "2\n",
            "1\n",
            "+\n",
            "+\n",
            "+\n",
            "+\n",
            "-\n",
            "+\n",
            "+\n",
            "+\n",
            "-\n",
            "+\n",
            "+\n",
            "-\n",
            "+\n",
            "+\n",
            "+\n",
            "+\n",
            "\n"
          ]
        }
      ]
    },
    {
      "cell_type": "code",
      "source": [
        "#Q15\n",
        "\n",
        "n=int(input())\n",
        "A=[]\n",
        "for i in range(n):A.append(int(input()))\n",
        "\n",
        "for i in range(n-1):\n",
        "  for j in range(n-i-1):\n",
        "    if A[j]>A[j+1]:\n",
        "      temp=A[j+1]\n",
        "      A[j+1]=A[j]\n",
        "      A[j]=temp\n",
        "\n",
        "for i in range(n):print(A[i])\n",
        "    "
      ],
      "metadata": {
        "colab": {
          "base_uri": "https://localhost:8080/"
        },
        "id": "wFjjMDiLdaqU",
        "outputId": "6b0fbd34-ee39-4016-c80f-38c3e01d7e6f"
      },
      "execution_count": null,
      "outputs": [
        {
          "output_type": "stream",
          "name": "stdout",
          "text": [
            "4\n",
            "3\n",
            "7\n",
            "4\n",
            "5\n",
            "3\n",
            "4\n",
            "5\n",
            "7\n",
            "3\n",
            "4\n",
            "5\n",
            "7\n",
            "3\n",
            "4\n",
            "5\n",
            "7\n"
          ]
        }
      ]
    },
    {
      "cell_type": "code",
      "source": [
        "#Q16\n",
        "\n",
        "n=int(input())\n",
        "A=[]\n",
        "for i in range(n):A.append(int(input()))\n",
        "\n",
        "for i in range(n-1):\n",
        "  change=False\n",
        "  for j in range(n-i-1):\n",
        "    if A[j]>A[j+1]:\n",
        "      temp=A[j+1]\n",
        "      A[j+1]=A[j]\n",
        "      A[j]=temp\n",
        "      change=True\n",
        "  if change==False:\n",
        "    res=i+1\n",
        "    break\n",
        "\n",
        "print(res)\n",
        "\n"
      ],
      "metadata": {
        "colab": {
          "base_uri": "https://localhost:8080/"
        },
        "id": "TwZ7ibspg3i2",
        "outputId": "f77fabd5-1766-4cba-d399-365cfd891814"
      },
      "execution_count": null,
      "outputs": [
        {
          "output_type": "stream",
          "name": "stdout",
          "text": [
            "5\n",
            "10\n",
            "1\n",
            "5\n",
            "2\n",
            "3\n",
            "[1, 2, 3, 5, 10]\n",
            "3\n"
          ]
        }
      ]
    },
    {
      "cell_type": "code",
      "source": [
        "#Q17\n",
        "\n",
        "A=list((input()))\n",
        "\n",
        "res=\"\"\n",
        "for i in range(len(A)):\n",
        "  A[i]=int(A[i])\n",
        "\n",
        "for i in range(len(A)):\n",
        "  MAX=i\n",
        "  for j in range(i, len(A)):\n",
        "    if A[MAX]<A[j]:MAX=j\n",
        "  temp=A[i]\n",
        "  A[i]=A[MAX]\n",
        "  A[MAX]=temp\n",
        "  \n",
        "\n",
        "for i in range(len(A)):res += str(A[i])\n",
        "\n",
        "print(res)\n",
        "\n"
      ],
      "metadata": {
        "colab": {
          "base_uri": "https://localhost:8080/"
        },
        "id": "GSg0yLgbK26K",
        "outputId": "596e940d-f5cb-4d87-dba7-13659dd7d8fb"
      },
      "execution_count": null,
      "outputs": [
        {
          "output_type": "stream",
          "name": "stdout",
          "text": [
            "23561\n",
            "[6, 3, 5, 2, 1]\n",
            "[6, 5, 3, 2, 1]\n",
            "[6, 5, 3, 2, 1]\n",
            "[6, 5, 3, 2, 1]\n",
            "[6, 5, 3, 2, 1]\n",
            "65321\n"
          ]
        }
      ]
    },
    {
      "cell_type": "code",
      "source": [
        "#Q12\n",
        "\n",
        "n=int(input())\n",
        "A=list(map(int,input().split()))\n",
        "B=[-1]*n\n",
        "stack=[]\n",
        "\n",
        "for i in range(n):\n",
        "  \n",
        "  #if len(stack)==0 or (A[i]<stack[-1]):\n",
        "    #stack.append(i)\n",
        "\n",
        "  #print(A[i])\n",
        "  #print(stack[-1])\n",
        "\n",
        "  if stack and A[i]>A[stack[-1]]:\n",
        "      while stack and A[stack[-1]] < A[i]:\n",
        "        B[stack.pop()]=A[i]\n",
        "  stack.append(i)\n",
        "  #for i in range(n):\n",
        "    #print(A[B[i]], end=\" \")\n",
        "  #print(\"\\n\")\n",
        "  #print(stack)\n",
        "\n",
        "for i in range(n):\n",
        "  print(B[i], end=\" \")\n",
        "  \n"
      ],
      "metadata": {
        "colab": {
          "base_uri": "https://localhost:8080/"
        },
        "id": "UPZOp7sQ7b-S",
        "outputId": "7c3613b0-2206-464e-924d-f61e5b9b72c7"
      },
      "execution_count": null,
      "outputs": [
        {
          "output_type": "stream",
          "name": "stdout",
          "text": [
            "4\n",
            "3 5 2 7\n",
            "5 7 7 -1 "
          ]
        }
      ]
    },
    {
      "cell_type": "code",
      "source": [
        "#Q13\n",
        "\n",
        "from collections import deque\n",
        "\n",
        "dq=deque()\n",
        "N = int(input())\n",
        "for i in range(N):dq.appendleft(i+1)\n",
        "\n",
        "while(1):\n",
        "  if len(dq)==1:break\n",
        "  dq.pop()\n",
        "  if len(dq)==1:break\n",
        "  temp=dq.pop()\n",
        "  dq.appendleft(temp)\n",
        "\n",
        "print(dq[0])\n",
        "\n",
        "\n"
      ],
      "metadata": {
        "colab": {
          "base_uri": "https://localhost:8080/"
        },
        "id": "wXP7nzDCAXaL",
        "outputId": "a8b42ece-013a-4859-fd5b-e56c81d5c59a"
      },
      "execution_count": null,
      "outputs": [
        {
          "output_type": "stream",
          "name": "stdout",
          "text": [
            "6\n",
            "deque([6, 5, 4, 3, 2, 1])\n",
            "deque([6, 5, 4, 3, 2])\n",
            "deque([2, 6, 5, 4, 3])\n",
            "deque([2, 6, 5, 4])\n",
            "deque([4, 2, 6, 5])\n",
            "deque([4, 2, 6])\n",
            "deque([6, 4, 2])\n",
            "deque([6, 4])\n",
            "deque([4, 6])\n",
            "deque([4])\n",
            "4\n"
          ]
        }
      ]
    },
    {
      "cell_type": "code",
      "source": [
        "#Q18\n",
        "\n",
        "n=int(input())\n",
        "li=list(map(int,input()))\n",
        "\n",
        "for i in range(n):\n",
        "  \n",
        "\n",
        "\n"
      ],
      "metadata": {
        "id": "cgXuw3lDNeb-"
      },
      "execution_count": null,
      "outputs": []
    }
  ]
}