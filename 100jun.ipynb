{
  "nbformat": 4,
  "nbformat_minor": 0,
  "metadata": {
    "colab": {
      "provenance": [],
      "authorship_tag": "ABX9TyOF1+lXQXT4/x92QOFlo9G6",
      "include_colab_link": true
    },
    "kernelspec": {
      "name": "python3",
      "display_name": "Python 3"
    },
    "language_info": {
      "name": "python"
    }
  },
  "cells": [
    {
      "cell_type": "markdown",
      "metadata": {
        "id": "view-in-github",
        "colab_type": "text"
      },
      "source": [
        "<a href=\"https://colab.research.google.com/github/chanpus/BeakJun/blob/main/100jun.ipynb\" target=\"_parent\"><img src=\"https://colab.research.google.com/assets/colab-badge.svg\" alt=\"Open In Colab\"/></a>"
      ]
    },
    {
      "cell_type": "code",
      "source": [
        "#Q1\n",
        "\n",
        "a = int(input())\n",
        "b = list(input())\n",
        "\n",
        "res=0\n",
        "\n",
        "for i in range(a):\n",
        "  b[i]=int(b[i])\n",
        "  res += b[i]\n",
        "\n",
        "print(res)"
      ],
      "metadata": {
        "colab": {
          "base_uri": "https://localhost:8080/"
        },
        "id": "PBqS8Oxdn5S_",
        "outputId": "4c6c87ae-c884-4010-e2b0-2796057dd326"
      },
      "execution_count": null,
      "outputs": [
        {
          "output_type": "stream",
          "name": "stdout",
          "text": [
            "4\n",
            "1234\n",
            "10\n"
          ]
        }
      ]
    },
    {
      "cell_type": "code",
      "source": [
        "#Q2\n",
        "\n",
        "n = int(input())\n",
        "scores=[]\n",
        "scores = list(map(int, input().split()))\n",
        "\n",
        "def AVG(li, n):\n",
        "  avg=0\n",
        "  for i in li:\n",
        "    avg+=i\n",
        "  avg /= n\n",
        "  return avg\n",
        "scores.sort()\n",
        "big=scores[n-1]\n",
        "\n",
        "for i in range(n):\n",
        "  scores[i] = scores[i]/big*100\n",
        "\n",
        "res = AVG(scores, n)\n",
        "print(res)\n"
      ],
      "metadata": {
        "colab": {
          "base_uri": "https://localhost:8080/"
        },
        "id": "9VQIRkvypEgm",
        "outputId": "316f8feb-8d17-4004-df8b-16cd10b72903"
      },
      "execution_count": null,
      "outputs": [
        {
          "output_type": "stream",
          "name": "stdout",
          "text": [
            "3\n",
            "40 60 80\n",
            "75.0\n",
            "[50.0, 75.0, 100.0]\n"
          ]
        }
      ]
    },
    {
      "cell_type": "code",
      "source": [
        "#Q3\n",
        "\n",
        "n, q = map(int, input().split())\n",
        "li=list(map(int,input().split()))\n",
        "sumlist=[0]*n\n",
        "res=[]\n",
        "for i in range(n):\n",
        "  sumlist[i]=sumlist[i-1]+li[i]\n",
        "\n",
        "for i in range(q):\n",
        "  a, b = map(int,input().split())\n",
        "  if a==1:res.append(sumlist[b])\n",
        "  else:res.append(sumlist[b-1]-sumlist[a-2])\n",
        "\n",
        "for i in range(q):\n",
        "  print(res[i])"
      ],
      "metadata": {
        "colab": {
          "base_uri": "https://localhost:8080/"
        },
        "id": "TjuWyNMmuVOA",
        "outputId": "75d357cf-a042-40ed-9d00-47fea621fb2e"
      },
      "execution_count": null,
      "outputs": [
        {
          "output_type": "stream",
          "name": "stdout",
          "text": [
            "5 3\n",
            "5 4 3 2 1\n",
            "1 3\n",
            "2 4\n",
            "5 5\n",
            "12\n",
            "9\n",
            "1\n"
          ]
        }
      ]
    },
    {
      "cell_type": "code",
      "source": [
        "#Q4\n",
        "\n",
        "n, q = map(int,input().split())\n",
        "cube=[]\n",
        "sumcube=[[0 for j in range(n)] for i in range(n)]\n",
        "#x1,x2,y1,y2=[0]*q,[0]*q,[0]*q,[0]*q\n",
        "\n",
        "\n",
        "for i in range(n):\n",
        "  cube.append(list(map(int,input().split())))\n",
        "\n",
        "for k in range(q):\n",
        "  res=0\n",
        "  x1,y1,x2,y2 = map(int,input().split())\n",
        "\n",
        "  for i in range(y2-y1+1):\n",
        "    for j in range(x2-x1+1):\n",
        "      res += cube[y1+i-1][x1+j-1]\n",
        "  print(res)\n",
        "  \n",
        "\n",
        "#시간초과나옴 구간합으로 어케함;;;\n",
        "\n",
        "#for i in range(n):\n",
        "#  for j in range(n):\n",
        "#    sumcube[i][j]=sumcube[i][j-1]+sumcube[i-1][j]-sumcube[i-1][j-1]+cube[i][j]\n",
        "\n",
        "#for i in range(q):\n",
        "#  print(sumcube[x2[i]][y2[i]] - sumcube[x1[i]-1][y1[2]] - sumcube[x2[i]][y1[i]-1] + sumcube[x1[i]-1][y1[i]-1])\n",
        "\n",
        "    \n"
      ],
      "metadata": {
        "colab": {
          "base_uri": "https://localhost:8080/"
        },
        "id": "wbJNpftGyDQ3",
        "outputId": "21c8c722-b993-4b51-82aa-802eb95c9c2c"
      },
      "execution_count": null,
      "outputs": [
        {
          "output_type": "stream",
          "name": "stdout",
          "text": [
            "4 3\n",
            "1 2 3 4\n",
            "2 3 4 5\n",
            "3 4 5 6\n",
            "4 5 6 7\n",
            "2 2 3 4\n",
            "27\n",
            "3 4 3 4\n",
            "6\n",
            "1 1 4 4\n",
            "64\n"
          ]
        }
      ]
    },
    {
      "cell_type": "code",
      "source": [
        "#Q5\n",
        "\n",
        "sli=[0]\n",
        "li2=[]\n",
        "res=0\n",
        "\n",
        "n, x = map(int,input().split())\n",
        "\n",
        "li=list(map(int,input().split()))\n",
        "\n",
        "for i in range(n):\n",
        "  sli.append(sli[i-1]+li[i])\n",
        "  li2.append(sli[i]%x)\n",
        "for i in range(n):\n",
        "  \n"
      ],
      "metadata": {
        "id": "kIPGIcqq9rPt"
      },
      "execution_count": null,
      "outputs": []
    },
    {
      "cell_type": "code",
      "source": [
        "#Q6 답참조\n",
        "\n",
        "n = int(input())\n",
        "count = 1\n",
        "start_index=1\n",
        "end_index=1\n",
        "sum=1\n",
        "\n",
        "while end_index != n:\n",
        "  if sum==n:\n",
        "    count += 1\n",
        "    end_index += 1\n",
        "    sum += end_index\n",
        "  elif sum > n:\n",
        "    sum -= start_index\n",
        "    start_index += 1\n",
        "  else:\n",
        "    end_index += 1\n",
        "    sum += end_index\n",
        "\n",
        "print(count)"
      ],
      "metadata": {
        "id": "BFmo2evAg3re"
      },
      "execution_count": null,
      "outputs": []
    },
    {
      "cell_type": "code",
      "source": [
        "#Q7\n",
        "\n",
        "N = int(input())\n",
        "M = int(input())\n",
        "\n",
        "Nlist = list(map(int,input().split()))\n",
        "\n",
        "Nlist.sort()\n",
        "\n",
        "end=N-1\n",
        "start=0\n",
        "sum=Nlist[start]+Nlist[end]\n",
        "count=0\n",
        "\n",
        "while end > start:\n",
        "  if sum==M:\n",
        "    count+=1\n",
        "    end-=1\n",
        "    start+=1\n",
        "    sum = Nlist[start]+Nlist[end]\n",
        "  elif sum > M:\n",
        "    end-=1\n",
        "    sum = Nlist[start]+Nlist[end]\n",
        "  else:\n",
        "    start += 1\n",
        "    sum = Nlist[start]+Nlist[end]\n",
        "\n",
        "print(count)\n"
      ],
      "metadata": {
        "colab": {
          "base_uri": "https://localhost:8080/"
        },
        "id": "F0J-rQ7jlR1M",
        "outputId": "038e0b6e-2f18-4f30-b898-3a6e7ec2bd29"
      },
      "execution_count": null,
      "outputs": [
        {
          "output_type": "stream",
          "name": "stdout",
          "text": [
            "6\n",
            "9\n",
            "1 2 3 4 5 7\n",
            "2\n"
          ]
        }
      ]
    },
    {
      "cell_type": "code",
      "source": [
        "n = int(input())\n",
        "Nlist = list(map(int,input().split()))\n",
        "\n",
        "Nlist.sort()\n",
        "\n",
        "\n",
        "count=0\n",
        "\n",
        "\n",
        "\n",
        "for i in range(n):\n",
        "  M=Nlist[i]\n",
        "  start=0\n",
        "  end=n-1\n",
        "  sum=Nlist[start]+Nlist[end]\n",
        "  while end > start:\n",
        "    sum = Nlist[start]+Nlist[end]\n",
        "    if (sum==M)and(start!=i)and(end!=i):\n",
        "      count+=1\n",
        "      print(i)\n",
        "      break\n",
        "    elif sum > M:\n",
        "      end-=1\n",
        "    elif (sum==M)and(Nlist[start]==0):\n",
        "      end -= 1\n",
        "    elif (sum==M)and(Nlist[end]==0):\n",
        "      \n",
        "      start += 1\n",
        "    else:\n",
        "      start += 1\n",
        "\n",
        "print(count)"
      ],
      "metadata": {
        "colab": {
          "base_uri": "https://localhost:8080/"
        },
        "id": "1OrwoSjEnFRe",
        "outputId": "2c4175f9-d58d-4393-b7e7-e8d21f52d914"
      },
      "execution_count": null,
      "outputs": [
        {
          "output_type": "stream",
          "name": "stdout",
          "text": [
            "3\n",
            "0 0 0\n",
            "1\n",
            "2\n",
            "2\n"
          ]
        }
      ]
    },
    {
      "cell_type": "code",
      "source": [
        "#Q9\n",
        "\n",
        "n, m = map(int,input().split())\n",
        "dna=list(input())\n",
        "A, C, G, T = map(int,input().split())\n",
        "res=1\n",
        "\n",
        "def acgt(a, c, g, t):\n",
        "  if (a<A)or(c<C)or(g<G)or(t<T):\n",
        "    #print(a, c, g, t)\n",
        "    return 0\n",
        "  else: return 1\n",
        "\n",
        "\n",
        "\n",
        "res=0\n",
        "a,c,g,t=0,0,0,0\n",
        "for k in range(m):\n",
        "  if dna[k]=='A':\n",
        "    a+=1\n",
        "  if dna[k]=='C':\n",
        "    c+=1\n",
        "  if dna[k]=='G':\n",
        "    g+=1\n",
        "  if dna[k]=='T':\n",
        "    t+=1\n",
        "#print(a,c,g,t)\n",
        "if acgt(a,c,g,t):res+=1\n",
        "\n",
        "for k in range(n-m):\n",
        "  if dna[k]=='A':a-=1\n",
        "  if dna[k]=='C':c-=1\n",
        "  if dna[k]=='G':g-=1\n",
        "  if dna[k]=='T':t-=1\n",
        "  if dna[k+m]=='A':a+=1\n",
        "  if dna[k+m]=='C':c+=1\n",
        "  if dna[k+m]=='G':g+=1\n",
        "  if dna[k+m]=='T':t+=1\n",
        "  #print(dna[k],dna[k+m])\n",
        "  #print(a,c,g,t)\n",
        "  if acgt(a,c,g,t):res+=1\n",
        "\n",
        "print(res)\n",
        "\n",
        "    \n"
      ],
      "metadata": {
        "colab": {
          "base_uri": "https://localhost:8080/"
        },
        "id": "DFuIeIRWRvc4",
        "outputId": "492a9255-3ce2-49d0-ab7f-a780ae81a469"
      },
      "execution_count": null,
      "outputs": [
        {
          "output_type": "stream",
          "name": "stdout",
          "text": [
            "4 2\n",
            "GATA\n",
            "1 0 0 1\n",
            "2\n"
          ]
        }
      ]
    },
    {
      "cell_type": "code",
      "source": [
        "#Q10\n",
        "\n",
        "n, l = map(int,input().split())\n",
        "A=list(map(int,input().split()))\n",
        "res=[]\n",
        "m=0\n",
        "\n",
        "def minIndex(l):\n",
        "  a = 0\n",
        "  for i in range(1, len(l)):\n",
        "    if l[i]<l[a]:a=i\n",
        "  return a\n",
        "\n",
        "\n",
        "for i in range(l):\n",
        "  if A[i]<A[m]:m=i\n",
        "  res.append(A[m])\n",
        "\n",
        "for i in range(1,n-l+1):\n",
        "  if A[m]>A[i+l-1]:m=i+l-1\n",
        "  if m==i-1:\n",
        "    temp=A[i:i+l-1]\n",
        "    m=i+minIndex(temp)\n",
        "  \n",
        "  \n",
        "  res.append(A[m])\n",
        "\n",
        "answer = str(res[0])\n",
        "\n",
        "for i in range(1,n): answer= answer+' '+str(res[i])\n",
        "print(answer)\n"
      ],
      "metadata": {
        "colab": {
          "base_uri": "https://localhost:8080/"
        },
        "id": "wmlYVcBEBKlR",
        "outputId": "13d04cf2-eaea-4202-dbff-23e392172cf8"
      },
      "execution_count": 30,
      "outputs": [
        {
          "output_type": "stream",
          "name": "stdout",
          "text": [
            "12 3\n",
            "1 5 2 3 6 2 3 7 3 5 2 6\n",
            "1 1 1 2 2 3 2 2 3 3 2 2\n"
          ]
        }
      ]
    }
  ]
}