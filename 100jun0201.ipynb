{
  "nbformat": 4,
  "nbformat_minor": 0,
  "metadata": {
    "colab": {
      "provenance": [],
      "authorship_tag": "ABX9TyOU39Sag1k5bPB3+wCLR4Tz",
      "include_colab_link": true
    },
    "kernelspec": {
      "name": "python3",
      "display_name": "Python 3"
    },
    "language_info": {
      "name": "python"
    }
  },
  "cells": [
    {
      "cell_type": "markdown",
      "metadata": {
        "id": "view-in-github",
        "colab_type": "text"
      },
      "source": [
        "<a href=\"https://colab.research.google.com/github/chanpus/BeakJun/blob/main/100jun0201.ipynb\" target=\"_parent\"><img src=\"https://colab.research.google.com/assets/colab-badge.svg\" alt=\"Open In Colab\"/></a>"
      ]
    },
    {
      "cell_type": "code",
      "source": [
        "#Q37\n",
        "\n",
        "N,M=map(int,input().split())\n",
        "A=[0]*(M+1)\n",
        "res=[]\n",
        "for i in range(M+1): A[i]=i\n",
        "A[1]=0\n",
        "\n",
        "\n",
        "for i in range(2,M//2+1):\n",
        "  if A[i]!=0:\n",
        "    for j in range(2,M//i+1):\n",
        "      #print(A[i],A[j])\n",
        "      A[i*j]=0\n",
        "\n",
        "for i in range(N,M+1):\n",
        "  if A[i]!=0:print(A[i])\n",
        "\n",
        "\n",
        "\n"
      ],
      "metadata": {
        "colab": {
          "base_uri": "https://localhost:8080/"
        },
        "id": "hRCVXSTRGJRI",
        "outputId": "ce92e152-27bd-428f-b656-4d671ee597f8"
      },
      "execution_count": null,
      "outputs": [
        {
          "output_type": "stream",
          "name": "stdout",
          "text": [
            "3 4\n",
            "3\n"
          ]
        }
      ]
    },
    {
      "cell_type": "code",
      "source": [
        "#Q38\n",
        "import math\n",
        "\n",
        "N,M=map(int,input().split())\n",
        "A=[0]*(M+1)\n",
        "res=0\n",
        "for i in range(M+1): A[i]=i\n",
        "A[1]=0\n",
        "\n",
        "\n",
        "for i in range(2,int(math.sqrt(M))+1):\n",
        "  if A[i]!=0:\n",
        "    for j in range(2,M//i+1):\n",
        "      #print(A[i],A[j])\n",
        "      A[i*j]=0\n",
        "\n",
        "for i in range(2,M+1):\n",
        "  if A[i]!=0:\n",
        "    temp=A[i]\n",
        "    while A[i]<=(M)/temp:\n",
        "      if A[i]>=N/temp: res+=1\n",
        "      temp=temp*A[i]\n",
        "\n",
        "print(res)"
      ],
      "metadata": {
        "colab": {
          "base_uri": "https://localhost:8080/"
        },
        "id": "-L5lDRvlQMwE",
        "outputId": "2e53f73e-64a0-47ac-9947-f8ef7c44cd39"
      },
      "execution_count": null,
      "outputs": [
        {
          "output_type": "stream",
          "name": "stdout",
          "text": [
            "1 1000\n",
            "25\n"
          ]
        }
      ]
    },
    {
      "cell_type": "code",
      "source": [
        "#Q39\n",
        "\n",
        "N = int(input())\n",
        "M=10000000\n",
        "A=[0]*(M+1)\n",
        "for i in range(M+1): A[i]=i\n",
        "A[1]=0\n",
        "res=0\n",
        "for i in range(2,M//2+1):\n",
        "  if A[i]!=0:\n",
        "    for j in range(2,M//i+1):\n",
        "      A[i*j]=0\n",
        "\n",
        "\n",
        "for j in range(N, M+1):\n",
        "  if A[j]==0:\n",
        "    continue\n",
        "  p=list(str(A[j]))\n",
        "  s=0\n",
        "  #print(p)\n",
        "  for i in range(len(p)//2):\n",
        "    if p[i]!=p[len(p)-i-1]:s=1\n",
        "  if s==0:\n",
        "    res=j\n",
        "    break\n",
        "\n",
        "print(A[res])"
      ],
      "metadata": {
        "colab": {
          "base_uri": "https://localhost:8080/"
        },
        "id": "xr3thLD5bFyw",
        "outputId": "31177d3d-5070-4b49-8cd5-789a1fc7feed"
      },
      "execution_count": null,
      "outputs": [
        {
          "output_type": "stream",
          "name": "stdout",
          "text": [
            "1011\n",
            "10301\n"
          ]
        }
      ]
    },
    {
      "cell_type": "code",
      "source": [
        "#Q40\n",
        "import math\n",
        "\n",
        "N,M=map(int,input().split())\n",
        "A=[0]*(M-N+1)\n",
        "res=0\n",
        "for i in range(M-N+1): A[i]=N+i\n",
        "\n",
        "for i in range(2,int(math.sqrt(M))+1):\n",
        "  if A[i]\n",
        "\n",
        "for i in range(len(A)):\n",
        "  if A[i] !=0: res+=1\n",
        "#print(A)\n",
        "#print(A)\n",
        "print(res)\n"
      ],
      "metadata": {
        "colab": {
          "base_uri": "https://localhost:8080/"
        },
        "id": "KOozG-9Tlft2",
        "outputId": "822d8595-252e-4d60-b31f-2b076719e6b3"
      },
      "execution_count": null,
      "outputs": [
        {
          "output_type": "stream",
          "name": "stdout",
          "text": [
            "1 10\n",
            "7\n"
          ]
        }
      ]
    }
  ]
}