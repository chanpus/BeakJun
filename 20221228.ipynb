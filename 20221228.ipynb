{
  "nbformat": 4,
  "nbformat_minor": 0,
  "metadata": {
    "colab": {
      "provenance": [],
      "authorship_tag": "ABX9TyNrjVsSQ2IlXuM9hkvT5qEH",
      "include_colab_link": true
    },
    "kernelspec": {
      "name": "python3",
      "display_name": "Python 3"
    },
    "language_info": {
      "name": "python"
    }
  },
  "cells": [
    {
      "cell_type": "markdown",
      "metadata": {
        "id": "view-in-github",
        "colab_type": "text"
      },
      "source": [
        "<a href=\"https://colab.research.google.com/github/chanpus/BeakJun/blob/main/20221228.ipynb\" target=\"_parent\"><img src=\"https://colab.research.google.com/assets/colab-badge.svg\" alt=\"Open In Colab\"/></a>"
      ]
    },
    {
      "cell_type": "code",
      "source": [
        "a, b, v=input().split()\n",
        "a, b, v = int(a), int(b), int(v)\n",
        "\n",
        "res = (v-a)//(a-b)+2\n",
        "if(v-a)%(a-b)==0:res-=1\n",
        "print(res)"
      ],
      "metadata": {
        "colab": {
          "base_uri": "https://localhost:8080/"
        },
        "id": "xnUZLtoFEqAL",
        "outputId": "88f63602-c9c1-43ab-d490-a887d1e06ab5"
      },
      "execution_count": 3,
      "outputs": [
        {
          "output_type": "stream",
          "name": "stdout",
          "text": [
            "2 1 5\n",
            "4\n"
          ]
        }
      ]
    },
    {
      "cell_type": "code",
      "source": [
        "n = int(input())\n",
        "l=[]\n",
        "res=[]\n",
        "for i in range(n):\n",
        "  l.append(input())\n",
        "for i in range(n):\n",
        "  l2=l[i].split()\n",
        "  num=float(l2[0])\n",
        "  for i in range(len(l2)-1):\n",
        "    if l2[i+1]==\"#\": num-=7\n",
        "    if l2[i+1]==\"@\": num*=3\n",
        "    if l2[i+1]==\"%\": num+=5\n",
        "  res.append(num)\n",
        "for i in range(n):\n",
        "  a= '{:.2f}'.format(round(res[i],2))\n",
        "  print(a)"
      ],
      "metadata": {
        "colab": {
          "base_uri": "https://localhost:8080/"
        },
        "id": "4N2Zj8XLSF5Y",
        "outputId": "2dcb8986-6b5b-4efe-8d82-ac2e9013cd9a"
      },
      "execution_count": 11,
      "outputs": [
        {
          "output_type": "stream",
          "name": "stdout",
          "text": [
            "1\n",
            "3 @\n",
            "9.00\n"
          ]
        }
      ]
    }
  ]
}