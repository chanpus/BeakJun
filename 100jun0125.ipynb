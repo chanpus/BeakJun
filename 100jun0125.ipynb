{
  "nbformat": 4,
  "nbformat_minor": 0,
  "metadata": {
    "colab": {
      "provenance": [],
      "authorship_tag": "ABX9TyM0JYWbq60myPJuZaMBjmwo",
      "include_colab_link": true
    },
    "kernelspec": {
      "name": "python3",
      "display_name": "Python 3"
    },
    "language_info": {
      "name": "python"
    }
  },
  "cells": [
    {
      "cell_type": "markdown",
      "metadata": {
        "id": "view-in-github",
        "colab_type": "text"
      },
      "source": [
        "<a href=\"https://colab.research.google.com/github/chanpus/BeakJun/blob/main/100jun0125.ipynb\" target=\"_parent\"><img src=\"https://colab.research.google.com/assets/colab-badge.svg\" alt=\"Open In Colab\"/></a>"
      ]
    },
    {
      "cell_type": "code",
      "source": [
        "\n",
        "\n",
        "def merge_sort(a):\n",
        "\n",
        "  res=[]\n",
        "  if len(a)==1 :return a\n",
        "\n",
        "  m = (len(a))//2\n",
        "  merge1=merge_sort(a[:m])\n",
        "  merge2=merge_sort(a[m:])\n",
        "  q=0\n",
        "  w=0\n",
        "\n",
        "  while len(res)!=len(a):\n",
        "    if q==len(merge1):\n",
        "      res.append(merge2[w])\n",
        "      w+=1\n",
        "    elif w==len(merge2):\n",
        "      res.append(merge1[q])\n",
        "      q+=1\n",
        "    elif merge1[q]>merge2[w]:\n",
        "      res.append(merge2[w])\n",
        "      w+=1\n",
        "    else:\n",
        "      res.append(merge1[q])\n",
        "      q+=1\n",
        "  #print(merge1)\n",
        "  #print(merge2)\n",
        "  #print(res)\n",
        "  return res\n",
        "\n",
        "\n",
        "n=int(input())\n",
        "A=[]\n",
        "\n",
        "for i in range(n):\n",
        "  A.append(int(input()))\n",
        "#print(merge_sort(A))\n",
        "\n",
        "sorted=merge_sort(A)\n",
        "for i in range(n):\n",
        "  print(str(sorted[i]))"
      ],
      "metadata": {
        "colab": {
          "base_uri": "https://localhost:8080/"
        },
        "id": "GeozXGlya2XT",
        "outputId": "de9dd8cb-9d08-4743-89e9-5c75254802e4"
      },
      "execution_count": null,
      "outputs": [
        {
          "output_type": "stream",
          "name": "stdout",
          "text": [
            "7\n",
            "13\n",
            "45\n",
            "85\n",
            "24\n",
            "572\n",
            "85\n",
            "2\n",
            "2\n",
            "13\n",
            "24\n",
            "45\n",
            "85\n",
            "85\n",
            "572\n"
          ]
        }
      ]
    },
    {
      "cell_type": "code",
      "source": [
        "\n",
        "\n",
        "def quick_sort(a):\n",
        "  if len(a)==1 or len(a)==0:return a\n",
        "  p=a[0]\n",
        "  right=[]\n",
        "  left=[]\n",
        "  for i in range(1,len(a)):\n",
        "    if a[i]>p:right.append(a[i])\n",
        "    else:left.append(a[i])\n",
        "  RIGHT=quick_sort(right)\n",
        "  LEFT=quick_sort(left)\n",
        "  LEFT.append(p)\n",
        "  res= LEFT + RIGHT\n",
        "  return res\n",
        "\n",
        "n,m=map(int,input().split())\n",
        "\n",
        "A=list(map(int,input().split()))\n",
        "res=quick_sort(A)\n",
        "print(res[m-1])"
      ],
      "metadata": {
        "colab": {
          "base_uri": "https://localhost:8080/"
        },
        "id": "DZGEY-uuyik-",
        "outputId": "a06fed80-692b-4165-e128-33c167e024d0"
      },
      "execution_count": null,
      "outputs": [
        {
          "output_type": "stream",
          "name": "stdout",
          "text": [
            "5 2\n",
            "4 1 2 3 5\n",
            "2\n"
          ]
        }
      ]
    },
    {
      "cell_type": "code",
      "source": [
        "stack=0\n",
        "\n",
        "def merge_sort(a):\n",
        "  global stack\n",
        "  temp=0\n",
        "\n",
        "  res=[]\n",
        "  if len(a)==1 :return a\n",
        "\n",
        "  m = (len(a))//2\n",
        "  merge1=merge_sort(a[:m])\n",
        "  merge2=merge_sort(a[m:])\n",
        "  q=0\n",
        "  w=0\n",
        "\n",
        "  while len(res)!=len(a):\n",
        "    temp+=1\n",
        "    if q==len(merge1):\n",
        "      res.append(merge2[w])\n",
        "      w+=1\n",
        "    elif w==len(merge2):\n",
        "      res.append(merge1[q])\n",
        "      q+=1\n",
        "    elif merge1[q]>merge2[w]:\n",
        "      #print(merge1+merge2)\n",
        "      #print(res)\n",
        "      res.append(merge2[w])\n",
        "      w+=1\n",
        "      stack += (len(merge1)+w - (temp))\n",
        "      #print(stack)\n",
        "      \n",
        "    else:\n",
        "      res.append(merge1[q])\n",
        "      q+=1\n",
        "\n",
        "  return res\n",
        "\n",
        "stack=0\n",
        "n=int(input())\n",
        "\n",
        "li=list(map(int,input().split()))\n",
        "merge_sort(li)\n",
        "print(stack)"
      ],
      "metadata": {
        "colab": {
          "base_uri": "https://localhost:8080/",
          "height": 381
        },
        "id": "VvTm2XzTFuQ_",
        "outputId": "997d9b12-bd95-4349-9268-af0c7320b0bb"
      },
      "execution_count": null,
      "outputs": [
        {
          "output_type": "error",
          "ename": "KeyboardInterrupt",
          "evalue": "ignored",
          "traceback": [
            "\u001b[0;31m---------------------------------------------------------------------------\u001b[0m",
            "\u001b[0;31mKeyboardInterrupt\u001b[0m                         Traceback (most recent call last)",
            "\u001b[0;32m<ipython-input-1-79fd6b09ffd1>\u001b[0m in \u001b[0;36m<module>\u001b[0;34m\u001b[0m\n\u001b[1;32m     37\u001b[0m \u001b[0;34m\u001b[0m\u001b[0m\n\u001b[1;32m     38\u001b[0m \u001b[0mstack\u001b[0m\u001b[0;34m=\u001b[0m\u001b[0;36m0\u001b[0m\u001b[0;34m\u001b[0m\u001b[0;34m\u001b[0m\u001b[0m\n\u001b[0;32m---> 39\u001b[0;31m \u001b[0mn\u001b[0m\u001b[0;34m=\u001b[0m\u001b[0mint\u001b[0m\u001b[0;34m(\u001b[0m\u001b[0minput\u001b[0m\u001b[0;34m(\u001b[0m\u001b[0;34m)\u001b[0m\u001b[0;34m)\u001b[0m\u001b[0;34m\u001b[0m\u001b[0;34m\u001b[0m\u001b[0m\n\u001b[0m\u001b[1;32m     40\u001b[0m \u001b[0;34m\u001b[0m\u001b[0m\n\u001b[1;32m     41\u001b[0m \u001b[0mli\u001b[0m\u001b[0;34m=\u001b[0m\u001b[0mlist\u001b[0m\u001b[0;34m(\u001b[0m\u001b[0mmap\u001b[0m\u001b[0;34m(\u001b[0m\u001b[0mint\u001b[0m\u001b[0;34m,\u001b[0m\u001b[0minput\u001b[0m\u001b[0;34m(\u001b[0m\u001b[0;34m)\u001b[0m\u001b[0;34m.\u001b[0m\u001b[0msplit\u001b[0m\u001b[0;34m(\u001b[0m\u001b[0;34m)\u001b[0m\u001b[0;34m)\u001b[0m\u001b[0;34m)\u001b[0m\u001b[0;34m\u001b[0m\u001b[0;34m\u001b[0m\u001b[0m\n",
            "\u001b[0;32m/usr/local/lib/python3.8/dist-packages/ipykernel/kernelbase.py\u001b[0m in \u001b[0;36mraw_input\u001b[0;34m(self, prompt)\u001b[0m\n\u001b[1;32m    858\u001b[0m                 \u001b[0;34m\"raw_input was called, but this frontend does not support input requests.\"\u001b[0m\u001b[0;34m\u001b[0m\u001b[0;34m\u001b[0m\u001b[0m\n\u001b[1;32m    859\u001b[0m             )\n\u001b[0;32m--> 860\u001b[0;31m         return self._input_request(str(prompt),\n\u001b[0m\u001b[1;32m    861\u001b[0m             \u001b[0mself\u001b[0m\u001b[0;34m.\u001b[0m\u001b[0m_parent_ident\u001b[0m\u001b[0;34m,\u001b[0m\u001b[0;34m\u001b[0m\u001b[0;34m\u001b[0m\u001b[0m\n\u001b[1;32m    862\u001b[0m             \u001b[0mself\u001b[0m\u001b[0;34m.\u001b[0m\u001b[0m_parent_header\u001b[0m\u001b[0;34m,\u001b[0m\u001b[0;34m\u001b[0m\u001b[0;34m\u001b[0m\u001b[0m\n",
            "\u001b[0;32m/usr/local/lib/python3.8/dist-packages/ipykernel/kernelbase.py\u001b[0m in \u001b[0;36m_input_request\u001b[0;34m(self, prompt, ident, parent, password)\u001b[0m\n\u001b[1;32m    902\u001b[0m             \u001b[0;32mexcept\u001b[0m \u001b[0mKeyboardInterrupt\u001b[0m\u001b[0;34m:\u001b[0m\u001b[0;34m\u001b[0m\u001b[0;34m\u001b[0m\u001b[0m\n\u001b[1;32m    903\u001b[0m                 \u001b[0;31m# re-raise KeyboardInterrupt, to truncate traceback\u001b[0m\u001b[0;34m\u001b[0m\u001b[0;34m\u001b[0m\u001b[0;34m\u001b[0m\u001b[0m\n\u001b[0;32m--> 904\u001b[0;31m                 \u001b[0;32mraise\u001b[0m \u001b[0mKeyboardInterrupt\u001b[0m\u001b[0;34m(\u001b[0m\u001b[0;34m\"Interrupted by user\"\u001b[0m\u001b[0;34m)\u001b[0m \u001b[0;32mfrom\u001b[0m \u001b[0;32mNone\u001b[0m\u001b[0;34m\u001b[0m\u001b[0;34m\u001b[0m\u001b[0m\n\u001b[0m\u001b[1;32m    905\u001b[0m             \u001b[0;32mexcept\u001b[0m \u001b[0mException\u001b[0m \u001b[0;32mas\u001b[0m \u001b[0me\u001b[0m\u001b[0;34m:\u001b[0m\u001b[0;34m\u001b[0m\u001b[0;34m\u001b[0m\u001b[0m\n\u001b[1;32m    906\u001b[0m                 \u001b[0mself\u001b[0m\u001b[0;34m.\u001b[0m\u001b[0mlog\u001b[0m\u001b[0;34m.\u001b[0m\u001b[0mwarning\u001b[0m\u001b[0;34m(\u001b[0m\u001b[0;34m\"Invalid Message:\"\u001b[0m\u001b[0;34m,\u001b[0m \u001b[0mexc_info\u001b[0m\u001b[0;34m=\u001b[0m\u001b[0;32mTrue\u001b[0m\u001b[0;34m)\u001b[0m\u001b[0;34m\u001b[0m\u001b[0;34m\u001b[0m\u001b[0m\n",
            "\u001b[0;31mKeyboardInterrupt\u001b[0m: Interrupted by user"
          ]
        }
      ]
    },
    {
      "cell_type": "code",
      "source": [
        "\n",
        "\n",
        "\n",
        "\n",
        "n=int(input())\n",
        "A=[]\n",
        "\n",
        "for i in range(n):\n",
        "  A.append(int(input()))\n",
        "\n",
        "count=[0]*10001\n",
        "\n",
        "for i in range(n):\n",
        "  count[int(input())] += 1\n",
        "\n",
        "for i in range(10001):\n",
        "  if count[i] != 0:\n",
        "    for k in range(count[i]):\n",
        "      print(i)"
      ],
      "metadata": {
        "id": "qJICueavURit"
      },
      "execution_count": null,
      "outputs": []
    }
  ]
}